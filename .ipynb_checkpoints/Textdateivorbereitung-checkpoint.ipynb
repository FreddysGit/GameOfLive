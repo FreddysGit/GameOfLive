{
 "cells": [
  {
   "cell_type": "markdown",
   "metadata": {},
   "source": [
    "##Funktion zum Erstellen einer Textdatei, in die die Bedingungen eingetragen werden"
   ]
  },
  {
   "cell_type": "code",
   "execution_count": 10,
   "metadata": {
    "collapsed": false
   },
   "outputs": [],
   "source": [
    "def prepGoL (size = [9,9], bouncon = 1, incon = [[3,3],[3,4],[3,5]], rule = 'B3/S23'):\n",
    "    \"\"\"Die Funktion prepGoL bereitet eine Textdatei vor, in welche die Bedingungen zum Ausführen von GameOfLive benötigt werden.\n",
    "    Es sind standrtmäßige Werte eingesetzt, welche nach belieben verändert werden können. Die Veränderung können sowohl durch Veränderung der Parameter der Funktion oder durch Bearbeitung des erstellten Dokuments vorgenommen werden.  \n",
    "    kwargs:\n",
    "        size = [9,9] : Systemgröße\n",
    "        bouncon = 1 : Randbedingungen\n",
    "        incon = [[3,3],[3,4],[3,5]] : Anfangsbedingungen\n",
    "        rule = 'B3/S23' : Regelstring\n",
    "        \n",
    "    Form:\n",
    "        size: [Länge, Breite]\n",
    "        bouncon:\n",
    "            0 - periodisch\n",
    "            1 - begrenzt\n",
    "            2 - unendlich?\n",
    "        incon: [[xpos,ypos], [xpos,ypos], ...]\n",
    "        rule: B3/S23\n",
    "            B - Anzahlen von Nachbarzellen zur Geburt - /S - Anzahlen von Nachbarzellen zum Überleben vorhandener Zellen\n",
    "    \"\"\"\n",
    "    f = open('GameOfLiveParameters.dat','w')\n",
    "    f.write('#Die Vorgegebenen Eingaben können verändert werden. Die Form ist zu beachten\\n')\n",
    "    f.write('#Systemgröße als Liste mit Höhe und Breite (\"[Höhe, Breite]\")\\n')\n",
    "    f.write('{}\\n'.format(size))\n",
    "    f.write('#Randbedingungen als Zahl:\\n')\n",
    "    f.write('#0 - periodisch\\n')\n",
    "    f.write('#1 - begrenzt\\n')\n",
    "    f.write('#2 - unendlich\\n')\n",
    "    f.write('{}\\n'.format(bouncon))\n",
    "    f.write('#Anfangsbedingungen als Liste: [[xpos,ypos],[xpos,ypos],...]\\n')\n",
    "    f.write('{}\\n'.format(incon))\n",
    "    f.write('#Regelstring für das Leben der Zellen: z.B. \"B3/S23\"\\n')\n",
    "    f.write('#B - Anzahlen von Nachbarzellen zur Geburt - /S - Anzahlen von Nachbarzellen zum Überleben vorhandener Zellen\\n')\n",
    "    f.write('{}\\n'.format(rule))\n",
    "    f.close()"
   ]
  }
 ],
 "metadata": {
  "kernelspec": {
   "display_name": "Python 3",
   "language": "python",
   "name": "python3"
  },
  "language_info": {
   "codemirror_mode": {
    "name": "ipython",
    "version": 3
   },
   "file_extension": ".py",
   "mimetype": "text/x-python",
   "name": "python",
   "nbconvert_exporter": "python",
   "pygments_lexer": "ipython3",
   "version": "3.4.3"
  }
 },
 "nbformat": 4,
 "nbformat_minor": 0
}
