{
 "cells": [
  {
   "cell_type": "markdown",
   "metadata": {},
   "source": [
    "#Import der notwenigen Pakete"
   ]
  },
  {
   "cell_type": "code",
   "execution_count": 1,
   "metadata": {
    "collapsed": false
   },
   "outputs": [],
   "source": [
    "from pylab import *\n",
    "import matplotlib.animation as animation"
   ]
  },
  {
   "cell_type": "code",
   "execution_count": 2,
   "metadata": {
    "collapsed": false
   },
   "outputs": [],
   "source": [
    "def prepGoL (size = [9,9], bouncon = 1, incon = [[3,3],[3,4],[3,5]], rule = 'B3/S23'):\n",
    "    \"\"\"Die Funktion prepGoL bereitet Textdateien vor, in welche die Bedingungen zum Ausführen von GameOfLive benötigt werden.\n",
    "    Es sind standrtmäßige Werte eingesetzt, welche nach belieben verändert werden können. Die Veränderung können sowohl durch Veränderung der Parameter der Funktion oder durch Bearbeitung des erstellten Dokuments vorgenommen werden.  \n",
    "    kwargs:\n",
    "        size = [9,9] : Systemgröße\n",
    "        bouncon = 1 : Randbedingungen\n",
    "        incon = [[3,3],[3,4],[3,5]] : Anfangsbedingungen\n",
    "        rule = 'B3/S23' : Regelstring\n",
    "        \n",
    "    Form:\n",
    "        size: [Länge, Breite]\n",
    "        bouncon:\n",
    "            0 - periodisch\n",
    "            1 - begrenzt\n",
    "            2 - unendlich?\n",
    "        incon: [[xpos,ypos], [xpos,ypos], ...]\n",
    "        rule: B3/S23\n",
    "            B - Anzahlen von Nachbarzellen zur Geburt - /S - Anzahlen von Nachbarzellen zum Überleben vorhandener Zellen\n",
    "    \"\"\"\n",
    "    a = open('GameOfLiveSize.dat','w')\n",
    "    a.write('#Systemgröße als zwei natürliche Zahlen; Höhe und Breite (Höhe Breite)\\n')\n",
    "    for i in range(2):\n",
    "        a.write('{} '.format(size[i]))\n",
    "    a.write(\"\\n\")\n",
    "    b = open('GameOfLiveBouncon.dat','w')\n",
    "    b.write('#Randbedingungen als Zahl:\\n')\n",
    "    b.write('#0 - periodisch\\n')\n",
    "    b.write('#1 - begrenzt\\n')\n",
    "    b.write('#2 - unendlich\\n')\n",
    "    b.write('{}\\n'.format(bouncon))\n",
    "    c = open('GameOfLiveIncon.dat','w')\n",
    "    c.write('#Anfangsbedingungen; Positionen der einzelnen besetzten Zellen untereinander: xpos ypos\\n')\n",
    "    for i in range(len(incon)):\n",
    "        for j in range(2):\n",
    "            c.write('{} '.format(incon[i][j]))\n",
    "        c.write(\"\\n\")\n",
    "    d = open('GameOfLiveRule.dat','w')\n",
    "    d.write('#Regeln für das Leben der Zellen: z.B. \"3 ENTER 2 3\"\\n')\n",
    "    d.write('#erste Zeile: Anzahlen von Nachbarzellen zur Geburt \\n#zweite Zeile: Anzahlen von Nachbarzellen zum Überleben vorhandener Zellen\\n')\n",
    "    d.write('#Anschließend sind die Zeilen so mit 0en aufzufüllen, dass sie gleich lang sind')\n",
    "    for i in range(3):\n",
    "        for j in range(max(len(rule.split(\"/\")[1])-1, len(rule.split(\"/\")[0])-1)):\n",
    "            try:\n",
    "                d.write('{} '.format(int(rule.split(\"/\")[i-1][j+1])))\n",
    "            except:\n",
    "                d.write('0')\n",
    "        d.write(\"\\n\")\n",
    "    a.close()\n",
    "    b.close()\n",
    "    c.close()\n",
    "    d.close()"
   ]
  },
  {
   "cell_type": "code",
   "execution_count": 3,
   "metadata": {
    "collapsed": false
   },
   "outputs": [],
   "source": [
    "prepGoL()"
   ]
  },
  {
   "cell_type": "markdown",
   "metadata": {},
   "source": [
    "##Laufzeittest, ob eine Summe oder eine Matrixoperation schneller ist."
   ]
  },
  {
   "cell_type": "code",
   "execution_count": 5,
   "metadata": {
    "collapsed": false
   },
   "outputs": [
    {
     "name": "stdout",
     "output_type": "stream",
     "text": [
      "10110\n",
      "Wall time: 10.5 ms\n",
      "[1 1 1 ..., 1 1 1]\n",
      "10110.0\n",
      "Wall time: 1 ms\n"
     ]
    }
   ],
   "source": [
    "import numpy as np\n",
    "k=10110\n",
    "M=np.ones([k,k]).astype(int)\n",
    "%time print(sum(M[:,0]))\n",
    "print(M[:,0])\n",
    "%time print(M[:,0].dot(np.ones(k)))"
   ]
  },
  {
   "cell_type": "markdown",
   "metadata": {},
   "source": [
    "##Es wird also weiter mit Matrixoperationen gearbeitet"
   ]
  },
  {
   "cell_type": "code",
   "execution_count": 165,
   "metadata": {
    "collapsed": false
   },
   "outputs": [],
   "source": [
    "def GoLStep(M, livecrit, borncrit, bouncon, i, imax, Mi):\n",
    "    \"\"\"\n",
    "    \n",
    "    \"\"\"\n",
    "    hohe, breite=M.shape\n",
    "    if not i==0:\n",
    "        if bouncon==2:\n",
    "            l = M[:,0].dot(np.ones(hohe)) #links\n",
    "            r = M[:,-1].dot(np.ones(hohe)) #rechts\n",
    "            o = M[0].dot(np.ones(breite)) #oben\n",
    "            u = M[-1].dot(np.ones(breite)) #unten\n",
    "            if not l==0:\n",
    "                M = np.c_[np.zeros(hohe), M]\n",
    "                breite=breite+1\n",
    "            if not r==0:\n",
    "                M = np.c_[M, np.zeros(hohe)]\n",
    "                breite=breite+1\n",
    "            if not o==0:\n",
    "                M = np.r_[np.zeros([1,breite]),M]\n",
    "                hohe=hohe+1\n",
    "            if not u==0:\n",
    "                M = np.r_[M,np.zeros([1,breite])]\n",
    "                hohe=hohe+1\n",
    "\n",
    "            neighbor1 = np.eye(hohe)+np.eye(hohe, k=1)+np.eye(hohe, k=-1)\n",
    "            neighbor2 = np.eye(breite)+np.eye(breite, k=1)+np.eye(breite, k=-1)\n",
    "        elif bouncon==1:\n",
    "            neighbor1 = np.eye(hohe)+np.eye(hohe, k=1)+np.eye(hohe, k=-1)\n",
    "            neighbor2 = np.eye(breite)+np.eye(breite, k=1)+np.eye(breite, k=-1)\n",
    "        elif bouncon==0:\n",
    "            neighbor1 = np.eye(hohe)+np.eye(hohe, k=1)+np.eye(hohe, k=-1)\n",
    "            neighbor1[0,-1]=1\n",
    "            neighbor1[-1,0]=1\n",
    "            neighbor2 = np.eye(breite)+np.eye(breite, k=1)+np.eye(breite, k=-1)\n",
    "            neighbor2[0,-1]=1\n",
    "            neighbor2[-1,0]=1\n",
    "        neighbors = neighbor1.dot(M).dot(neighbor2)-M\n",
    "        livenei = M*neighbors #Matrix, welche die Nachbarzahlen der lebenden Zellen enthält\n",
    "        deadnei = neighbors*(1-M) #Matrix, welche die Nachbarzahlen der toten Zellen enthält\n",
    "        newM = np.zeros((hohe,breite))\n",
    "        for i in livecrit:\n",
    "            newM[livenei==i]=1\n",
    "        for i in borncrit:\n",
    "            newM[deadnei==i]=1\n",
    "    else:\n",
    "        newM=Mi\n",
    "        hohe, breite=M.shape\n",
    "    print(breite, hohe)\n",
    "    print(newM)\n",
    "    return newM, breite, hohe"
   ]
  },
  {
   "cell_type": "code",
   "execution_count": 169,
   "metadata": {
    "collapsed": false
   },
   "outputs": [],
   "source": [
    "def GoLplot(field, step, livecrit, borncrit, bouncon, interval, speed):\n",
    "    \"\"\"\n",
    "    \n",
    "    \"\"\"\n",
    "    fig, ax = subplots()\n",
    "    line = ax.imshow(field, interpolation='nearest')\n",
    "    sfield = np.array(field)\n",
    "    \n",
    "    def animate(i):\n",
    "        if not i==1:\n",
    "            newfield, hohe, breite = step(field, livecrit, borncrit, bouncon, \n",
    "                                          i, interval, sfield)\n",
    "            field.data=newfield\n",
    "            ax.set_xlim([-0.5, breite-0.5])\n",
    "            ax.set_ylim([-0.5, hohe-0.5])\n",
    "            line.set_data(field.base)\n",
    "            print(i)\n",
    "        return line\n",
    "\n",
    "    ani = animation.FuncAnimation(fig, animate, np.arange(0, interval),\n",
    "                                  interval=speed, repeat=True, repeat_delay=speed*5)\n",
    "    show()"
   ]
  },
  {
   "cell_type": "markdown",
   "metadata": {},
   "source": [
    "##Funktion zum Import der Benutzereingabe"
   ]
  },
  {
   "cell_type": "code",
   "execution_count": 8,
   "metadata": {
    "collapsed": false
   },
   "outputs": [],
   "source": [
    "def GoLdataimport():\n",
    "    \"\"\"\n",
    "    \n",
    "    \"\"\"\n",
    "    size = np.loadtxt(\"GameOfLiveSize.dat\", dtype=int)\n",
    "    bouncon = np.loadtxt(\"GameOfLiveBouncon.dat\", dtype=int)\n",
    "    incon = np.loadtxt(\"GameOfLiveIncon.dat\", dtype=int)\n",
    "    rule = np.loadtxt(\"GameOfLiveRule.dat\", dtype=int)\n",
    "    return size, bouncon, incon, rule"
   ]
  },
  {
   "cell_type": "code",
   "execution_count": 7,
   "metadata": {
    "collapsed": false
   },
   "outputs": [],
   "source": [
    "size, bouncon, incon, rule=GoLdataimport()"
   ]
  },
  {
   "cell_type": "markdown",
   "metadata": {
    "collapsed": true
   },
   "source": [
    "##Funktion, welche den Datenimport und den Plot vornimmt"
   ]
  },
  {
   "cell_type": "code",
   "execution_count": 46,
   "metadata": {
    "collapsed": false
   },
   "outputs": [],
   "source": [
    "def GameOfLive(steps=10, speed=1):\n",
    "    \"\"\"\n",
    "    speed=1: fast\n",
    "    0: slow\n",
    "    \"\"\"\n",
    "    size, bouncon, incon, rule = GoLdataimport()\n",
    "    liverule = [rule[0][i] for i in range(len(rule[0])) if rule[0][i]!=0]\n",
    "    bornrule = [rule[1][i] for i in range(len(rule[1])) if rule[1][i]!=0]\n",
    "        \n",
    "    \n",
    "    field =  np.zeros(size)\n",
    "    for i in range(int(incon.size/incon[0].size)):\n",
    "        field[incon[i][1], incon[i][0]]=1\n",
    "    \n",
    "    if speed==1:\n",
    "        speed=100\n",
    "    elif speed==0:\n",
    "        speed=1000\n",
    "    \n",
    "    GoLplot(field, GoLStep, liverule, bornrule, bouncon, steps, speed)\n",
    "    return"
   ]
  },
  {
   "cell_type": "code",
   "execution_count": 173,
   "metadata": {
    "collapsed": false,
    "scrolled": true
   },
   "outputs": [
    {
     "name": "stdout",
     "output_type": "stream",
     "text": [
      "9 9\n",
      "[[ 0.  0.  0.  0.  0.  0.  0.  0.  0.]\n",
      " [ 0.  0.  0.  0.  0.  0.  0.  0.  0.]\n",
      " [ 0.  0.  0.  0.  0.  0.  0.  0.  0.]\n",
      " [ 0.  0.  0.  1.  0.  0.  0.  0.  0.]\n",
      " [ 0.  0.  0.  1.  0.  0.  0.  0.  0.]\n",
      " [ 0.  0.  0.  1.  0.  0.  0.  0.  0.]\n",
      " [ 0.  0.  0.  0.  0.  0.  0.  0.  0.]\n",
      " [ 0.  0.  0.  0.  0.  0.  0.  0.  0.]\n",
      " [ 0.  0.  0.  0.  0.  0.  0.  0.  0.]]\n",
      "0\n",
      "9 9\n",
      "[[ 0.  0.  0.  0.  0.  0.  0.  0.  0.]\n",
      " [ 0.  0.  0.  0.  0.  0.  0.  0.  0.]\n",
      " [ 0.  0.  0.  0.  0.  0.  0.  0.  0.]\n",
      " [ 0.  0.  0.  1.  0.  0.  0.  0.  0.]\n",
      " [ 0.  0.  0.  1.  0.  0.  0.  0.  0.]\n",
      " [ 0.  0.  0.  1.  0.  0.  0.  0.  0.]\n",
      " [ 0.  0.  0.  0.  0.  0.  0.  0.  0.]\n",
      " [ 0.  0.  0.  0.  0.  0.  0.  0.  0.]\n",
      " [ 0.  0.  0.  0.  0.  0.  0.  0.  0.]]\n",
      "0\n"
     ]
    }
   ],
   "source": [
    "GameOfLive(steps=1, speed=0)"
   ]
  },
  {
   "cell_type": "markdown",
   "metadata": {},
   "source": [
    "Problem: Er rechnet immer vom Ende weiter, die Anfangsbedungung ist also noch zu speichern. - gelöst\n",
    "\n",
    "Ferner funktionrt die Unendlichkeitsbedingung noch nicht.\n",
    "    - Erweiterung der Matrix wird nicht angezeigt und nicht übernommen"
   ]
  },
  {
   "cell_type": "code",
   "execution_count": 98,
   "metadata": {
    "collapsed": false,
    "scrolled": true
   },
   "outputs": [
    {
     "data": {
      "text/plain": [
       "array([[ 1.,  1.,  1.,  0.,  0.,  0.],\n",
       "       [ 1.,  1.,  1.,  0.,  0.,  0.]])"
      ]
     },
     "execution_count": 98,
     "metadata": {},
     "output_type": "execute_result"
    }
   ],
   "source": [
    "np.c_[np.ones([2,3]), np.zeros([2,3])]"
   ]
  },
  {
   "cell_type": "code",
   "execution_count": 144,
   "metadata": {
    "collapsed": false
   },
   "outputs": [
    {
     "name": "stdout",
     "output_type": "stream",
     "text": [
      "[[ 0.  0.]\n",
      " [ 0.  2.]]\n"
     ]
    },
    {
     "data": {
      "text/plain": [
       "array([[ 0.,  0.,  0.],\n",
       "       [ 2.,  0.,  0.],\n",
       "       [ 0.,  0.,  0.]])"
      ]
     },
     "execution_count": 144,
     "metadata": {},
     "output_type": "execute_result"
    }
   ],
   "source": [
    "a=np.ones([2,2])\n",
    "a.data=np.zeros([3,3])\n",
    "a[1,1]=2\n",
    "print(a)\n",
    "a.base"
   ]
  },
  {
   "cell_type": "markdown",
   "metadata": {},
   "source": [
    "Das Grundprinzip funktioniert nun. Es fehlen einige Aspekte wie\n",
    "- Randbedingungen in GoLStep\n",
    "- Funktionsbeschreibungen\n",
    "- evtl. Sonderfunktionen wie \n",
    "    - Farbwahl\n",
    "    - Starten, Stoppen per Maus\n",
    "    - Bearbeiten der Matrix per Maus\n",
    "    - ..."
   ]
  }
 ],
 "metadata": {
  "kernelspec": {
   "display_name": "Python 3",
   "language": "python",
   "name": "python3"
  },
  "language_info": {
   "codemirror_mode": {
    "name": "ipython",
    "version": 3
   },
   "file_extension": ".py",
   "mimetype": "text/x-python",
   "name": "python",
   "nbconvert_exporter": "python",
   "pygments_lexer": "ipython3",
   "version": "3.4.3"
  }
 },
 "nbformat": 4,
 "nbformat_minor": 0
}
