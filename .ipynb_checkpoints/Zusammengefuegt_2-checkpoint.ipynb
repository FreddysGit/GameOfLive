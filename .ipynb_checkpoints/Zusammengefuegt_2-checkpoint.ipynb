{
 "cells": [
  {
   "cell_type": "markdown",
   "metadata": {},
   "source": [
    "#Import der notwenigen Pakete"
   ]
  },
  {
   "cell_type": "code",
   "execution_count": 2,
   "metadata": {
    "collapsed": false
   },
   "outputs": [],
   "source": [
    "from pylab import *\n",
    "import matplotlib.animation as animation"
   ]
  },
  {
   "cell_type": "code",
   "execution_count": 3,
   "metadata": {
    "collapsed": true
   },
   "outputs": [],
   "source": [
    "def prepGoL (size = [9,9], bouncon = 1, incon = [[3,3],[3,4],[3,5]], rule = 'B3/S23'):\n",
    "    \"\"\"Die Funktion prepGoL bereitet eine Textdatei vor, in welche die Bedingungen zum Ausführen von GameOfLive benötigt werden.\n",
    "    Es sind standrtmäßige Werte eingesetzt, welche nach belieben verändert werden können. Die Veränderung können sowohl durch Veränderung der Parameter der Funktion oder durch Bearbeitung des erstellten Dokuments vorgenommen werden.  \n",
    "    kwargs:\n",
    "        size = [9,9] : Systemgröße\n",
    "        bouncon = 1 : Randbedingungen\n",
    "        incon = [[3,3],[3,4],[3,5]] : Anfangsbedingungen\n",
    "        rule = 'B3/S23' : Regelstring\n",
    "        \n",
    "    Form:\n",
    "        size: [Länge, Breite]\n",
    "        bouncon:\n",
    "            0 - periodisch\n",
    "            1 - begrenzt\n",
    "            2 - unendlich?\n",
    "        incon: [[xpos,ypos], [xpos,ypos], ...]\n",
    "        rule: B3/S23\n",
    "            B - Anzahlen von Nachbarzellen zur Geburt - /S - Anzahlen von Nachbarzellen zum Überleben vorhandener Zellen\n",
    "    \"\"\"\n",
    "    f = open('GameOfLiveParameters.dat','w')\n",
    "    f.write('#Die Vorgegebenen Eingaben können verändert werden. Die Form ist zu beachten\\n')\n",
    "    f.write('#Systemgröße als Liste mit Höhe und Breite (\"[Höhe, Breite]\")\\n')\n",
    "    f.write('{}\\n'.format(size))\n",
    "    f.write('#Randbedingungen als Zahl:\\n')\n",
    "    f.write('#0 - periodisch\\n')\n",
    "    f.write('#1 - begrenzt\\n')\n",
    "    f.write('#2 - unendlich\\n')\n",
    "    f.write('{}\\n'.format(bouncon))\n",
    "    f.write('#Anfangsbedingungen als Liste: [[xpos,ypos],[xpos,ypos],...]\\n')\n",
    "    f.write('{}\\n'.format(incon))\n",
    "    f.write('#Regelstring für das Leben der Zellen: z.B. \"B3/S23\"\\n')\n",
    "    f.write('#B - Anzahlen von Nachbarzellen zur Geburt - /S - Anzahlen von Nachbarzellen zum Überleben vorhandener Zellen\\n')\n",
    "    f.write('{}\\n'.format(rule))\n",
    "    f.close()"
   ]
  },
  {
   "cell_type": "code",
   "execution_count": 4,
   "metadata": {
    "collapsed": true
   },
   "outputs": [],
   "source": [
    "prepGoL()"
   ]
  },
  {
   "cell_type": "code",
   "execution_count": 5,
   "metadata": {
    "collapsed": false
   },
   "outputs": [],
   "source": [
    "def GoLSchritt(M, livecrit, borncrit):\n",
    "    \"\"\"\n",
    "    \n",
    "    \"\"\"\n",
    "    breite=M[0].size\n",
    "    hohe=M.size/breite\n",
    "    neighbor1 = np.eye(hohe)+np.eye(hohe, k=1)+np.eye(hohe, k=-1)\n",
    "    neighbor2 = np.eye(breite)+np.eye(breite, k=1)+np.eye(breite, k=-1)\n",
    "    neighbors = neighbor1.dot(M).dot(neighbor2)-M\n",
    "    livenei = M*neighbors #Matrix, welche die Nachbarzahlen der lebenden Zellen enthält\n",
    "    deadnei = neighbors*(1-M) #Matrix, welche die Nachbarzahlen der toten Zellen enthält\n",
    "    newM = np.zeros((hohe,breite))\n",
    "    for i in livecrit:\n",
    "        newM[livenei==i]=1\n",
    "    for i in borncrit:\n",
    "        newM[deadnei==i]=1\n",
    "    return newM"
   ]
  },
  {
   "cell_type": "code",
   "execution_count": 6,
   "metadata": {
    "collapsed": true
   },
   "outputs": [],
   "source": [
    "def GoLplot(field, step, livecrit, borncrit, interval):\n",
    "    \"\"\"\n",
    "    \n",
    "    \"\"\"\n",
    "    fig, ax = subplots()\n",
    "\n",
    "    line = ax.imshow(field, interpolation='nearest')\n",
    "    def animate(i):\n",
    "        field.data=step(field, livecrit, borncrit)\n",
    "        line.set_data(field)\n",
    "        return line\n",
    "\n",
    "\n",
    "    # Init only required for blitting to give a clean slate.\n",
    "    #def init():\n",
    "    #    line.set_ydata(np.ma.array(x, mask=True))\n",
    "    #    return line,\n",
    "\n",
    "    ani = animation.FuncAnimation(fig, animate, np.arange(0, interval),\n",
    "                                  interval=100, repeat=True, repeat_delay=100)\n",
    "    show()"
   ]
  },
  {
   "cell_type": "markdown",
   "metadata": {},
   "source": [
    "##Funktion zum Import der Benutzereingabe"
   ]
  },
  {
   "cell_type": "code",
   "execution_count": 7,
   "metadata": {
    "collapsed": false
   },
   "outputs": [],
   "source": [
    "def GoLdataimport(data):\n",
    "    datas = np.loadtxt(data, dtype=str, delimiter=\";;\")\n",
    "    size = datas[0]\n",
    "    bouncon = datas[1]\n",
    "    incon = datas[2]\n",
    "    rule = datas[3]\n",
    "    liverule = [rule.split(\"/S\")[0][i] for i in range(1, len(rule.split(\"/S\")[1]))]\n",
    "    deadrule = [rule.split(\"/S\")[1][i] for i in range(len(rule.split(\"/S\")[1]))]\n",
    "    return size, bouncon, incon, liverule, deadrule"
   ]
  },
  {
   "cell_type": "code",
   "execution_count": 9,
   "metadata": {
    "collapsed": false
   },
   "outputs": [],
   "source": [
    "paras=GoLdataimport(\"GameOfLiveParameters.dat\")"
   ]
  },
  {
   "cell_type": "markdown",
   "metadata": {},
   "source": [
    "##Korrektur der ausgegebenen Variablen"
   ]
  },
  {
   "cell_type": "code",
   "execution_count": null,
   "metadata": {
    "collapsed": true
   },
   "outputs": [],
   "source": []
  },
  {
   "cell_type": "raw",
   "metadata": {},
   "source": []
  },
  {
   "cell_type": "code",
   "execution_count": null,
   "metadata": {
    "collapsed": true
   },
   "outputs": [],
   "source": []
  },
  {
   "cell_type": "markdown",
   "metadata": {
    "collapsed": true
   },
   "source": [
    "##Funktion, welche den Datenimport und den Plot vornimmt"
   ]
  },
  {
   "cell_type": "code",
   "execution_count": null,
   "metadata": {
    "collapsed": true
   },
   "outputs": [],
   "source": []
  }
 ],
 "metadata": {
  "kernelspec": {
   "display_name": "Python 3",
   "language": "python",
   "name": "python3"
  },
  "language_info": {
   "codemirror_mode": {
    "name": "ipython",
    "version": 3
   },
   "file_extension": ".py",
   "mimetype": "text/x-python",
   "name": "python",
   "nbconvert_exporter": "python",
   "pygments_lexer": "ipython3",
   "version": "3.4.3"
  }
 },
 "nbformat": 4,
 "nbformat_minor": 0
}
