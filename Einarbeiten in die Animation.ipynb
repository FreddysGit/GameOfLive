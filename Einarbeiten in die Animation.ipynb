{
 "cells": [
  {
   "cell_type": "code",
   "execution_count": 46,
   "metadata": {
    "collapsed": true
   },
   "outputs": [],
   "source": [
    "from pylab import *\n",
    "#from matplotlib.widgets import *\n",
    "import matplotlib.animation as animation"
   ]
  },
  {
   "cell_type": "code",
   "execution_count": 64,
   "metadata": {
    "collapsed": false
   },
   "outputs": [],
   "source": [
    "A=np.array([[1,1,1],[1,0,0],[1,1,1]])\n",
    "def test(i):\n",
    "    x.set_data(A)\n",
    "    return x\n",
    "fig, ax = plt.subplots()\n",
    "x = ax.imshow(1-A, interpolation='nearest')\n",
    "jet()\n",
    "gray()\n",
    "#y=animation.FuncAnimation(fig, test, np.arange(200), interval=10,blit=True)\n",
    "show()"
   ]
  },
  {
   "cell_type": "code",
   "execution_count": 67,
   "metadata": {
    "collapsed": false
   },
   "outputs": [],
   "source": [
    "animation.FuncAnimation?"
   ]
  },
  {
   "cell_type": "code",
   "execution_count": 74,
   "metadata": {
    "collapsed": false
   },
   "outputs": [],
   "source": [
    "import numpy as np\n",
    "import matplotlib.pyplot as plt\n",
    "import matplotlib.animation as animation\n",
    "\n",
    "fig, ax = subplots()\n",
    "\n",
    "A = np.array([[1,1,1],[1,0,0],[1,1,1]])\n",
    "line = ax.imshow(1-A, interpolation='nearest')\n",
    "\n",
    "\n",
    "def animate(i):\n",
    "    line.set_data(A/log(i))  # update the data\n",
    "    return line,\n",
    "\n",
    "\n",
    "# Init only required for blitting to give a clean slate.\n",
    "#def init():\n",
    "#    line.set_ydata(np.ma.array(x, mask=True))\n",
    "#    return line,\n",
    "\n",
    "ani = animation.FuncAnimation(fig, animate, np.arange(2, 200),\n",
    "                              interval=50, repeat=True)\n",
    "plt.show()"
   ]
  }
 ],
 "metadata": {
  "kernelspec": {
   "display_name": "Python 3",
   "language": "python",
   "name": "python3"
  },
  "language_info": {
   "codemirror_mode": {
    "name": "ipython",
    "version": 3
   },
   "file_extension": ".py",
   "mimetype": "text/x-python",
   "name": "python",
   "nbconvert_exporter": "python",
   "pygments_lexer": "ipython3",
   "version": "3.4.3"
  }
 },
 "nbformat": 4,
 "nbformat_minor": 0
}
