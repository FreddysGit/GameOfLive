{
 "cells": [
  {
   "cell_type": "markdown",
   "metadata": {},
   "source": [
    "##Funktion zum Erstellen einer Textdatei, in die die Bedingungen eingetragen werden"
   ]
  },
  {
   "cell_type": "code",
   "execution_count": 2,
   "metadata": {
    "collapsed": false
   },
   "outputs": [],
   "source": [
    "def prepGoL ():\n",
    "    \"\"\"Die Funktion prepGoL bereitet eine Textdatei vor, in welche die Bedingungen zum Ausführen von GameOfLive benötigt werden.\n",
    "    Es sind standrtmäßige Werte eingesetzt, welche nach belieben verändert werden können.\n",
    "    \"\"\"\n",
    "    f = open('GameOfLiveParameters.dat','w')\n",
    "    f.write('#Die Vorgegebenen Eingaben können verändert werden. Die Form ist zu beachten\\n')\n",
    "    f.write('#')\n",
    "    f.close"
   ]
  },
  {
   "cell_type": "code",
   "execution_count": null,
   "metadata": {
    "collapsed": true
   },
   "outputs": [],
   "source": []
  }
 ],
 "metadata": {
  "kernelspec": {
   "display_name": "Python 3",
   "language": "python",
   "name": "python3"
  },
  "language_info": {
   "codemirror_mode": {
    "name": "ipython",
    "version": 3
   },
   "file_extension": ".py",
   "mimetype": "text/x-python",
   "name": "python",
   "nbconvert_exporter": "python",
   "pygments_lexer": "ipython3",
   "version": "3.4.3"
  }
 },
 "nbformat": 4,
 "nbformat_minor": 0
}
