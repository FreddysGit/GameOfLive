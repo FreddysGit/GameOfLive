{
 "cells": [
  {
   "cell_type": "markdown",
   "metadata": {},
   "source": [
    "#Import der notwenigen Pakete"
   ]
  },
  {
   "cell_type": "code",
   "execution_count": 1,
   "metadata": {
    "collapsed": false
   },
   "outputs": [],
   "source": [
    "from pylab import *\n",
    "import matplotlib.animation as animation\n",
    "from matplotlib.widgets import Slider, Button, RadioButtons"
   ]
  },
  {
   "cell_type": "code",
   "execution_count": 2,
   "metadata": {
    "collapsed": false
   },
   "outputs": [],
   "source": [
    "def prepGoL (size = [9,9], bouncon = 1, incon = [[3,3],[3,4],[3,5]], rule = 'B3/S23'):\n",
    "    \"\"\"Die Funktion prepGoL bereitet Textdateien vor, in welche die Bedingungen zum Ausführen von GameOfLife benötigt werden.\n",
    "    Es sind standrtmäßige Werte eingesetzt, welche nach belieben verändert werden können. Die Veränderung können sowohl durch Veränderung der Parameter der Funktion oder durch Bearbeitung des erstellten Dokuments vorgenommen werden.  \n",
    "    kwargs:\n",
    "        size = [9,9] : Systemgröße\n",
    "        bouncon = 1 : Randbedingungen\n",
    "        incon = [[3,3],[3,4],[3,5]] : Anfangsbedingungen\n",
    "        rule = 'B3/S23' : Regelstring\n",
    "        \n",
    "    Hinweise: Es ist eine Form nach folgendem Muster für die Anweisungen zu wählen:\n",
    "        size: [Länge, Breite]\n",
    "        bouncon:\n",
    "            0 - periodisch\n",
    "            1 - begrenzt\n",
    "            2 - unendlich (dynamisch)\n",
    "        incon: [[xpos,ypos], [xpos,ypos], ...]\n",
    "        rule: B3/S23\n",
    "            B - Anzahlen von Nachbarzellen zur Geburt - /S - Anzahlen von Nachbarzellen zum Überleben vorhandener Zellen\n",
    "    kein return Wert\n",
    "    \"\"\"\n",
    "    a = open('GameOfLifeSize.dat','w')\n",
    "    a.write('#Systemgröße als zwei natürliche Zahlen; Höhe und Breite (Höhe Breite)\\n')\n",
    "    for i in range(2):\n",
    "        a.write('{} '.format(size[i]))\n",
    "    a.write(\"\\n\")\n",
    "    b = open('GameOfLifeBouncon.dat','w')\n",
    "    b.write('#Randbedingungen als Zahl:\\n')\n",
    "    b.write('#0 - periodisch\\n')\n",
    "    b.write('#1 - begrenzt\\n')\n",
    "    b.write('#2 - unendlich\\n')\n",
    "    b.write('{}\\n'.format(bouncon))\n",
    "    c = open('GameOfLifeIncon.dat','w')\n",
    "    c.write('#Anfangsbedingungen; Positionen der einzelnen besetzten Zellen untereinander: xpos ypos\\n')\n",
    "    for i in range(len(incon)):\n",
    "        for j in range(2):\n",
    "            c.write('{} '.format(incon[i][j]))\n",
    "        c.write(\"\\n\")\n",
    "    d = open('GameOfLifeRule.dat','w')\n",
    "    d.write('#Regeln für das Leben der Zellen: z.B. \"3 ENTER 2 3\"\\n')\n",
    "    d.write('#erste Zeile: Anzahlen von Nachbarzellen zur Geburt \\n#zweite Zeile: Anzahlen von Nachbarzellen zum Überleben vorhandener Zellen\\n')\n",
    "    d.write('#Anschließend sind die Zeilen so mit 0en aufzufüllen, dass sie gleich lang sind')\n",
    "    for i in range(3):\n",
    "        for j in range(max(len(rule.split(\"/\")[1])-1, len(rule.split(\"/\")[0])-1)):\n",
    "            try:\n",
    "                d.write('{} '.format(int(rule.split(\"/\")[i-1][j+1])))\n",
    "            except:\n",
    "                d.write('0')\n",
    "        d.write(\"\\n\")\n",
    "    a.close()\n",
    "    b.close()\n",
    "    c.close()\n",
    "    d.close()"
   ]
  },
  {
   "cell_type": "code",
   "execution_count": 14,
   "metadata": {
    "collapsed": false
   },
   "outputs": [],
   "source": [
    "prepGoL(size = [9,9], bouncon = 2, incon = [[3,3],[3,4],[3,5]], rule = 'B3/S23')"
   ]
  },
  {
   "cell_type": "markdown",
   "metadata": {},
   "source": [
    "##Laufzeittest, ob eine Summe oder eine Matrixoperation schneller ist."
   ]
  },
  {
   "cell_type": "code",
   "execution_count": 5,
   "metadata": {
    "collapsed": false
   },
   "outputs": [
    {
     "name": "stdout",
     "output_type": "stream",
     "text": [
      "10110\n",
      "Wall time: 10.5 ms\n",
      "[1 1 1 ..., 1 1 1]\n",
      "10110.0\n",
      "Wall time: 1 ms\n"
     ]
    }
   ],
   "source": [
    "import numpy as np\n",
    "k=10110\n",
    "M=np.ones([k,k]).astype(int)\n",
    "%time print(sum(M[:,0]))\n",
    "print(M[:,0])\n",
    "%time print(M[:,0].dot(np.ones(k)))"
   ]
  },
  {
   "cell_type": "markdown",
   "metadata": {},
   "source": [
    "##Es wird also weiter mit Matrixoperationen gearbeitet"
   ]
  },
  {
   "cell_type": "code",
   "execution_count": 3,
   "metadata": {
    "collapsed": false
   },
   "outputs": [],
   "source": [
    "def GoLStep(M, livecrit, borncrit, bouncon):\n",
    "    \"\"\"\n",
    "    Die Funktion GoLStep führt einen einzelnen Schritt des Programms GameOfLife durch.\n",
    "    args:\n",
    "        M : Matrix, welche die Daten des Feldes entählt (0 für tote und 1 für lebende Zellen)\n",
    "        livecrit : Liste mit Kriterien, wann eine lebende Zelle am Leben bleibt. (Liste mit int Zahlen)\n",
    "        borncrit : Liste mit Kriterien, wann eine neue Zelle geboren wird. (Liste mit int Zahlen)\n",
    "        bouncon : Randbedingungen (int Zahl)\n",
    "                    0 - periodisch\n",
    "                    1 - begrenzt\n",
    "                    2 - unendlich (dynamisch) \n",
    "    \n",
    "    returns newM (neu, nach den vorgegebenen Regeln berechnete Matrix / neues Feld)\n",
    "    \"\"\"\n",
    "    hohe, breite=M.shape\n",
    "    if bouncon==2:\n",
    "        l = M[:,0].dot(np.ones(hohe)) #links\n",
    "        r = M[:,-1].dot(np.ones(hohe)) #rechts\n",
    "        o = M[0].dot(np.ones(breite)) #oben\n",
    "        u = M[-1].dot(np.ones(breite)) #unten\n",
    "        if not l==0:\n",
    "            M = np.c_[np.zeros(hohe), M]\n",
    "            breite=breite+1\n",
    "        if not r==0:\n",
    "            M = np.c_[M, np.zeros(hohe)]\n",
    "            breite=breite+1\n",
    "        if not o==0:\n",
    "            M = np.r_[np.zeros([1,breite]),M]\n",
    "            hohe=hohe+1\n",
    "        if not u==0:\n",
    "            M = np.r_[M,np.zeros([1,breite])]\n",
    "            hohe=hohe+1\n",
    "\n",
    "        neighbor1 = np.eye(hohe)+np.eye(hohe, k=1)+np.eye(hohe, k=-1)\n",
    "        neighbor2 = np.eye(breite)+np.eye(breite, k=1)+np.eye(breite, k=-1)\n",
    "    elif bouncon==1:\n",
    "        neighbor1 = np.eye(hohe)+np.eye(hohe, k=1)+np.eye(hohe, k=-1)\n",
    "        neighbor2 = np.eye(breite)+np.eye(breite, k=1)+np.eye(breite, k=-1)\n",
    "    elif bouncon==0:\n",
    "        neighbor1 = np.eye(hohe)+np.eye(hohe, k=1)+np.eye(hohe, k=-1)\n",
    "        neighbor1[0,-1]=1\n",
    "        neighbor1[-1,0]=1\n",
    "        neighbor2 = np.eye(breite)+np.eye(breite, k=1)+np.eye(breite, k=-1)\n",
    "        neighbor2[0,-1]=1\n",
    "        neighbor2[-1,0]=1\n",
    "    neighbors = neighbor1.dot(M).dot(neighbor2)-M\n",
    "    livenei = M*neighbors #Matrix, welche die Nachbarzahlen der lebenden Zellen enthält\n",
    "    deadnei = neighbors*(1-M) #Matrix, welche die Nachbarzahlen der toten Zellen enthält\n",
    "    newM = np.zeros((hohe,breite))\n",
    "    for i in livecrit:\n",
    "        newM[livenei==i]=1\n",
    "    for i in borncrit:\n",
    "        newM[deadnei==i]=1\n",
    "    #print(M)\n",
    "    #print(breite, hohe)\n",
    "    #print(newM)\n",
    "    return newM, breite, hohe"
   ]
  },
  {
   "cell_type": "code",
   "execution_count": 193,
   "metadata": {
    "collapsed": false
   },
   "outputs": [],
   "source": [
    "def GoLplot(field, step, livecrit, borncrit, bouncon, interval, speed):\n",
    "    \"\"\"\n",
    "    Die Funktion GoLplot stellt die Entwicklung des Feldes nach vorgegebener Regel dar.\n",
    "    args:\n",
    "        field : Ausganagsmatrix (Feld zum Schritt 0) mit den Daten der lebenden Zellen (1) und der toten Zellen (0)\n",
    "        step : Funktion, welche die Matrix zum nächsten Zeitpunkt bestimmt (mit den args *[field, livecrit, borncrit, bouncon])\n",
    "        livecrit : Liste mit Kriterien, wann eine lebende Zelle am Leben bleibt. (Liste mit int Zahlen)\n",
    "        borncrit : Liste mit Kriterien, wann eine neue Zelle geboren wird. (Liste mit int Zahlen)\n",
    "        bouncon : Randbedingungen (int Zahl)\n",
    "                    0 - periodisch\n",
    "                    1 - begrenzt\n",
    "                    2 - unendlich (dynamisch)  \n",
    "        interval : Anzahl der durchzuführenden Schritte (int Zahl)\n",
    "        speed : Schnelligkeit, mit der die Animation gezeigt werden soll\n",
    "                    float Zahl, welche die Verweildauer in ms angibt \n",
    "    \n",
    "    kein return Wert\n",
    "    \"\"\"\n",
    "    sfield = np.array(field)\n",
    "    fields=[np.array(sfield)]\n",
    "    ihohe, ibreite=sfield.shape\n",
    "    hohen=[ihohe]\n",
    "    breiten=[ibreite]\n",
    "    ibouncon=int(bouncon)\n",
    "    pause=False\n",
    "    fig, ax = subplots()\n",
    "    ax.set_position([0.3,0.25,0.69,0.69])\n",
    "    line = ax.imshow(field, interpolation='nearest')\n",
    "    \n",
    "    slideri = axes([0.35, 0.1, 0.6, 0.03])\n",
    "    reali = Slider(slideri, 'i', 0.0, interval, valinit=0)\n",
    "\n",
    "    opt1 = axes([0.025, 0.85, 0.25, 0.1])\n",
    "    GenOpt = Button(opt1, 'General Options')\n",
    "    opt2 = axes([0.025, 0.7, 0.25, 0.1])\n",
    "    ColOpt = Button(opt2, 'Colors')\n",
    "    opt3 = axes([0.025, 0.55, 0.25, 0.1])\n",
    "    FieldOpt = Button(opt3, 'Edit Field')\n",
    "    startax = axes([0.025, 0.25, 0.1, 0.1])\n",
    "    start = Button(startax, '>')\n",
    "    pauseax = axes([0.15, 0.25, 0.1, 0.1])\n",
    "    pauseb = Button(pauseax, '||')\n",
    "    singlestepax = axes([0.15, 0.1, 0.1, 0.1])\n",
    "    singlestep = Button(singlestepax, '>>')\n",
    "    singlebstepax = axes([0.025, 0.1, 0.1, 0.1])\n",
    "    singlebstep = Button(singlebstepax, '<<')\n",
    "    \n",
    "    \n",
    "    #Funktionen für die verschiedenen Optionen (werden in neuem Fenster geöffnet)\n",
    "    #General Options\n",
    "    def genopt(val):\n",
    "        fig, bounconax = subplots()\n",
    "        bounconax.set_position([0.1, 0.3, 0.35, 0.4])\n",
    "        bounconax.set_title(\"Boundary Condition\")\n",
    "        bounconb = RadioButtons(bounconax, ('finite', 'periodical', 'infinite'), active=0)\n",
    "        \n",
    "        borncritax0 = axes([0.5, 0.65, 0.1, 0.1])\n",
    "        borncritax0.set_title(\"born-\")\n",
    "        borncrit0 = Button(borncritax0, '0')\n",
    "        borncritax1 = axes([0.6, 0.65, 0.1, 0.1])\n",
    "        borncritax1.set_title(\"criteria\")\n",
    "        borncrit1 = Button(borncritax1, '1')\n",
    "        borncritax2 = axes([0.5, 0.55, 0.1, 0.1])\n",
    "        borncrit2 = Button(borncritax2, '2')\n",
    "        borncritax3 = axes([0.6, 0.55, 0.1, 0.1])\n",
    "        borncrit3 = Button(borncritax3, '3')\n",
    "        borncritax4 = axes([0.5, 0.45, 0.1, 0.1])\n",
    "        borncrit4 = Button(borncritax4, '4')\n",
    "        borncritax5 = axes([0.6, 0.45, 0.1, 0.1])\n",
    "        borncrit5 = Button(borncritax5, '5')\n",
    "        borncritax6 = axes([0.5, 0.35, 0.1, 0.1])\n",
    "        borncrit6 = Button(borncritax6, '6')\n",
    "        borncritax7 = axes([0.6, 0.35, 0.1, 0.1])\n",
    "        borncrit7 = Button(borncritax7, '7')\n",
    "        borncritax8 = axes([0.5, 0.25, 0.1, 0.1])\n",
    "        borncrit8 = Button(borncritax8, '8')\n",
    "        borncritax9 = axes([0.6, 0.25, 0.1, 0.1])\n",
    "        borncrit9 = Button(borncritax9, '9')\n",
    "        \n",
    "        livecritax0 = axes([0.75, 0.65, 0.1, 0.1])\n",
    "        livecritax0.set_title(\"live-\")\n",
    "        livecrit0 = Button(livecritax0, '0')\n",
    "        livecritax1 = axes([0.85, 0.65, 0.1, 0.1])\n",
    "        livecritax1.set_title(\"criteria\")\n",
    "        livecrit1 = Button(livecritax1, '1')\n",
    "        livecritax2 = axes([0.75, 0.55, 0.1, 0.1])\n",
    "        livecrit2 = Button(livecritax2, '2')\n",
    "        livecritax3 = axes([0.85, 0.55, 0.1, 0.1])\n",
    "        livecrit3 = Button(livecritax3, '3')\n",
    "        livecritax4 = axes([0.75, 0.45, 0.1, 0.1])\n",
    "        livecrit4 = Button(livecritax4, '4')\n",
    "        livecritax5 = axes([0.85, 0.45, 0.1, 0.1])\n",
    "        livecrit5 = Button(livecritax5, '5')\n",
    "        livecritax6 = axes([0.75, 0.35, 0.1, 0.1])\n",
    "        livecrit6 = Button(livecritax6, '6')\n",
    "        livecritax7 = axes([0.85, 0.35, 0.1, 0.1])\n",
    "        livecrit7 = Button(livecritax7, '7')\n",
    "        livecritax8 = axes([0.75, 0.25, 0.1, 0.1])\n",
    "        livecrit8 = Button(livecritax8, '8')\n",
    "        livecritax9 = axes([0.85, 0.25, 0.1, 0.1])\n",
    "        livecrit9 = Button(livecritax9, '9')\n",
    "        show()\n",
    "    \n",
    "        def bounconfunc(bcon):\n",
    "            '''\n",
    "            Die Funktion bounconfunc ändert die Animation entsprechend der neuen Randbedingung.\n",
    "            Sie wird von vorne gestartet.\n",
    "            args:\n",
    "                bcon : gewählte Randbedingung\n",
    "            '''\n",
    "            if bcon in ['finite',1]:\n",
    "                pass\n",
    "            if bcon in ['infinite',2]:\n",
    "                pass\n",
    "            if bcon in ['periodical',0]:\n",
    "                pass\n",
    "    \n",
    "    def colors(val):\n",
    "        fig, sliderr = subplots()\n",
    "        sliderr.set_position([0.35, 0.35, 0.6, 0.03])\n",
    "        sliderg = axes([0.35, 0.498, 0.6, 0.03])\n",
    "        sliderb = axes([0.35, 0.647, 0.6, 0.03])\n",
    "        colors = axes([0.025,0.2,0.25,0.6])\n",
    "\n",
    "        r = Slider(sliderr, 'red', 0.0, 1.0, valinit=0)\n",
    "        g = Slider(sliderg, 'green', 0.0, 1.0, valinit=0)\n",
    "        b = Slider(sliderb, 'blue', 0.0, 1.0, valinit=0)\n",
    "        colorbuttons = RadioButtons(colors, ('black', 'green', 'red', 'blue', 'yellow'))\n",
    "        show()\n",
    "        \n",
    "        def colorslide(val):\n",
    "            '''\n",
    "            Die Funktion colorslide verändert das Farbschema gemäß den auf den Sliderne eingestellten Werten.\n",
    "            args: \n",
    "                val : Nötig zum Einbau in anderen Funktionen\n",
    "            kein return Wert\n",
    "            '''\n",
    "            red=r.val\n",
    "            green=g.val\n",
    "            blue=b.val\n",
    "            col = {'red': [(0.0,  0.0, 0.0),\n",
    "                           (1.0,  red, red)],\n",
    "\n",
    "                 'green': [(0.0,  0.0, 0.0),\n",
    "                           (1.0,  green, green)],\n",
    "\n",
    "                 'blue':  [(0.0,  0.0, 0.0),\n",
    "                           (1.0,  blue, blue)],\n",
    "\n",
    "                 'alpha': [(0.0,  0.0, 0.0),\n",
    "                           (1.0,  1.0, 1.0)] }\n",
    "            cm = mpl.colors.LinearSegmentedColormap(\"cm\", col)\n",
    "            register_cmap(cmap=cm)\n",
    "            set_cmap(cm)\n",
    "\n",
    "        def colorbut(col='black'):\n",
    "            '''\n",
    "            Die Funktion colorbut stellt das Farbschema entsprechend der gewählten Farbe ein.\n",
    "            kwargs:\n",
    "                col='black' : gewählte Farbe\n",
    "            kein return Wert\n",
    "            '''\n",
    "            if col==\"red\":\n",
    "                r.set_val(1)\n",
    "                g.set_val(0)\n",
    "                b.set_val(0)\n",
    "            elif col==\"green\":\n",
    "                r.set_val(0)\n",
    "                g.set_val(1)\n",
    "                b.set_val(0)\n",
    "            elif col==\"blue\":\n",
    "                r.set_val(0)\n",
    "                g.set_val(0)\n",
    "                b.set_val(1)\n",
    "            elif col==\"black\":\n",
    "                r.set_val(0)\n",
    "                g.set_val(0)\n",
    "                b.set_val(0)\n",
    "            elif col==\"yellow\":\n",
    "                r.set_val(1)\n",
    "                g.set_val(1)\n",
    "                b.set_val(0)\n",
    "            else: \n",
    "                colorbut(\"black\")\n",
    "            colorslide(0)\n",
    "        \n",
    "        r.on_changed(colorslide)\n",
    "        g.on_changed(colorslide)\n",
    "        b.on_changed(colorslide)\n",
    "        colorbuttons.on_clicked(colorbut)\n",
    "\n",
    "    #Animierter Plot des Feldes\n",
    "    GenOpt.on_clicked(genopt)\n",
    "    ColOpt.on_clicked(colors)\n",
    "    \n",
    "    def animate(i):\n",
    "        '''\n",
    "        Die Funktion animate wird verwendet, um das Feld animiert auszugeben. Sie gibt den Plot (genauer die Imschow) in abhängigkeit des Schrittes mit dem entsprechenden Feld aus.\n",
    "        args:\n",
    "            i : Nummer des Schrittes\n",
    "        returns line\n",
    "        '''\n",
    "        if pause==False:\n",
    "            if reali.val<interval:\n",
    "                reali.set_val(int(reali.val)+1)\n",
    "            else:\n",
    "                reali.set_val(0)\n",
    "        if reali.val>=len(fields):\n",
    "            reali.set_val(len(fields))\n",
    "        i=int(reali.val)\n",
    "        if len(fields)>=i+1:\n",
    "            newfield=fields[i]\n",
    "            hohe=hohen[i]\n",
    "            breite=breiten[i]\n",
    "        else:            \n",
    "            field=fields[i-1]         \n",
    "            newfield, breite, hohe = step(field, livecrit, borncrit, bouncon)\n",
    "            fields.append(np.array(newfield))\n",
    "            hohen.append(int(hohe))\n",
    "            breiten.append(int(breite))\n",
    "        #print()\n",
    "        #print(i)\n",
    "        #print(len(fields))\n",
    "        ax.set_xlim([-0.5, breite-0.5])\n",
    "        ax.set_ylim([-0.5, hohe-0.5])\n",
    "        ax.clear()\n",
    "        line = ax.imshow(newfield, interpolation='nearest')\n",
    "        ax.set_title(\"$step$ = {}\".format(i))\n",
    "        return line\n",
    "    \n",
    "    ani = animation.FuncAnimation(fig, animate, np.arange(0, interval+1),\n",
    "                              interval=speed, repeat=True)\n",
    "    \n",
    "    show()\n",
    "    "
   ]
  },
  {
   "cell_type": "markdown",
   "metadata": {},
   "source": [
    "Die neue Idee ist, die Optionen in einem neuen Feld zu öffnen. Ferner wird überlegt, dass neben dem Prüfen von i auch noch nach pause geprüft wird, was die Animation stoppen lässt. Die Variable single_step setzt pause ein i später auf den entsprechenden Wert."
   ]
  },
  {
   "cell_type": "code",
   "execution_count": 194,
   "metadata": {
    "collapsed": false,
    "scrolled": true
   },
   "outputs": [],
   "source": [
    "GameOfLife(steps=100, speed=0)"
   ]
  },
  {
   "cell_type": "code",
   "execution_count": 83,
   "metadata": {
    "collapsed": true
   },
   "outputs": [],
   "source": [
    "fig, ax = subplots()\n",
    "fig.set_size_inches?"
   ]
  },
  {
   "cell_type": "code",
   "execution_count": 29,
   "metadata": {
    "collapsed": false
   },
   "outputs": [
    {
     "ename": "IndentationError",
     "evalue": "unexpected indent (<ipython-input-29-ee654b5bba28>, line 2)",
     "output_type": "error",
     "traceback": [
      "\u001b[1;36m  File \u001b[1;32m\"<ipython-input-29-ee654b5bba28>\"\u001b[1;36m, line \u001b[1;32m2\u001b[0m\n\u001b[1;33m    Options = RadioButtons(opt, ('General Options', 'Edit field', 'Colors'), active=0)\u001b[0m\n\u001b[1;37m    ^\u001b[0m\n\u001b[1;31mIndentationError\u001b[0m\u001b[1;31m:\u001b[0m unexpected indent\n"
     ]
    }
   ],
   "source": [
    "resetsa = plt.axes([0.025, 0.6, 0.25, 0.04])\n",
    "resetsb = Button(resetsa, 'Reset All')\n",
    "resetsb.on_clicked(resetall)\n",
    "\n",
    "def Option(option):\n",
    "    '''\n",
    "    Die Funktion Option zeigt in Abhängigkeit der gewählten Funktion die zugehörigen Funktionselemente an.\n",
    "    args:\n",
    "        option : gewählte Option\n",
    "                'General Options', 'Manual Running', 'Edit field', 'Colors'\n",
    "    kein return Wert\n",
    "    '''\n",
    "    reseta.clear()\n",
    "    if option==\"General Options\":\n",
    "        genopts.set_visible(1)\n",
    "        gena.on_clicked(generalOptions)\n",
    "    else: \n",
    "        genopts.set_visible(0)\n",
    "        bounconax.set_visible(0)\n",
    "    \n",
    "    if option==\"Speed\":\n",
    "        pass\n",
    "    if option==\"Edit field\":\n",
    "        pass\n",
    "\n",
    "\n",
    "#General Options\n",
    "def generalOptions(option='Boundary Conditions'):\n",
    "    '''\n",
    "    Die Funktion generalOptions zeigt in Abhängigkeit der gewählten Option die zugehörigen Slider an.\n",
    "    kwargs: \n",
    "        option='Boundary Conditions' : ausgewählte Option\n",
    "    kein return Wert\n",
    "    '''\n",
    "    \n",
    "def bounconfunc(bcon):\n",
    "    '''\n",
    "    Die Funktion bounconfunc ändert die Animation entsprechend der neuen Randbedingung.\n",
    "    Sie wird von vorne gestartet.\n",
    "    args:\n",
    "        bcon : gewählte Randbedingung\n",
    "    '''\n",
    "    if bcon in ['finite',1]:\n",
    "        pass\n",
    "    if bcon in ['infinite',2]:\n",
    "        pass\n",
    "    if bcon in ['periodical',0]:\n",
    "        pass\n",
    "\n",
    "#Farben\n",
    "red=0\n",
    "green=0\n",
    "blue=0\n",
    "\n",
    "#Reset All fehlt\n",
    "def resetall(val):\n",
    "    '''\n",
    "    Die Funktion resetall setzt alle Werte auf den Ursprungswert zurück.\n",
    "    args:\n",
    "        val : Benötigt zum Einbau in anderen Funktionen\n",
    "    kein return Wert\n",
    "    '''\n",
    "    colorbut('black')\n",
    "    bounconfunc(ibouncon)\n",
    "\n",
    "#Optionen anzeigen\n",
    "opt = axes([0.025, 0.65, 0.25, 0.25])\n",
    "Options = RadioButtons(opt, ('General Options', 'Manual Running', 'Edit field', 'Colors'), active=0)\n",
    "Options.on_clicked(Option)\n",
    "resetsa = plt.axes([0.025, 0.6, 0.25, 0.04])\n",
    "resetsb = Button(resetsa, 'Reset All')\n",
    "resetsb.on_clicked(resetall)\n",
    "\n",
    "#Optionselemente\n",
    "reseta = axes([0.025,0.025,0.2,0.1])\n",
    "resetb = Button(reseta, 'Reset')\n",
    "\n",
    "#General Options (Randbedingungen, Regelstring, Size)\n",
    "genopts = axes([0.025,0.2,0.25,0.38])\n",
    "gena = RadioButtons(genopts, ('Boundary Conditions','Rule','Size'), active=0)\n",
    "bounconax = axes([0.35, 0.05, 0.3, 0.13])\n",
    "bounconb = RadioButtons(bounconax, ('finite', 'infinite', 'periodical'))\n",
    "\n",
    "#Speed (Schieberegler für Geschwindigkeit)\n",
    "\n",
    "\n",
    "#Edit field (Stop, Bearbeiten, Übernehmen, u.U. Knopf mit neuem Fenster mit Vorschlägen, wenn angecklickt, dann übernehmbar in Feld, bei weiterem Klick bestätigung)\n",
    "\n",
    "\n",
    "#Running (Start, Stop, Schieberegler für Runde, single step)\n",
    "\n",
    "\n",
    "#Anfangsbedingung schaffen\n",
    "Option(\"General Options\")\n",
    "colorbut(\"black\")\n"
   ]
  },
  {
   "cell_type": "markdown",
   "metadata": {},
   "source": [
    "##Problem:\n",
    "Die Buttons, etc. arbeiten im Hintergrund weiter, wenn sie mit einer else Verzweigung disconnected werden, dann arbeiten sie gar nict mehr..."
   ]
  },
  {
   "cell_type": "code",
   "execution_count": 149,
   "metadata": {
    "collapsed": false
   },
   "outputs": [],
   "source": [
    "test=RadioButtons(genopts, ('hallo', 'tschuss'))\n",
    "test=Button(genopts, 'hallo')"
   ]
  },
  {
   "cell_type": "code",
   "execution_count": 141,
   "metadata": {
    "collapsed": false
   },
   "outputs": [
    {
     "data": {
      "text/plain": [
       "True"
      ]
     },
     "execution_count": 141,
     "metadata": {},
     "output_type": "execute_result"
    }
   ],
   "source": [
    "genopts = axes([0.025,0.2,0.25,0.38])\n",
    "colors = axes([0.025,0.2,0.25,0.38])\n",
    "genopts is colors"
   ]
  },
  {
   "cell_type": "markdown",
   "metadata": {},
   "source": [
    "##Funktion zum Import der Benutzereingabe"
   ]
  },
  {
   "cell_type": "code",
   "execution_count": 5,
   "metadata": {
    "collapsed": false
   },
   "outputs": [],
   "source": [
    "def GoLdataimport():\n",
    "    \"\"\"\n",
    "    Die Funktion GoLdataimport importiert die Bedingungen aus den mit prepGoL erstellten Textdateien. Die Form ist wie bei prepGoL beschrieben zu halten.\n",
    "    Sie benötigt keine Argumente.\n",
    "    returns (np.arrays)\n",
    "        size : Größe des Feldes\n",
    "        bouncon : Randbedingung\n",
    "        incon : Anfangsbedingung\n",
    "        rule : Regel (erste Zeile: bornrule, zweite Zeile: liverule)\n",
    "    \"\"\"\n",
    "    size = np.loadtxt(\"GameOfLifeSize.dat\", dtype=int)\n",
    "    bouncon = np.loadtxt(\"GameOfLifeBouncon.dat\", dtype=int)\n",
    "    incon = np.loadtxt(\"GameOfLifeIncon.dat\", dtype=int)\n",
    "    rule = np.loadtxt(\"GameOfLifeRule.dat\", dtype=int)\n",
    "    return size, bouncon, incon, rule"
   ]
  },
  {
   "cell_type": "code",
   "execution_count": 7,
   "metadata": {
    "collapsed": false
   },
   "outputs": [],
   "source": [
    "size, bouncon, incon, rule=GoLdataimport()"
   ]
  },
  {
   "cell_type": "markdown",
   "metadata": {
    "collapsed": true
   },
   "source": [
    "##Funktion, welche den Datenimport und den Plot vornimmt"
   ]
  },
  {
   "cell_type": "code",
   "execution_count": 6,
   "metadata": {
    "collapsed": false
   },
   "outputs": [],
   "source": [
    "def GameOfLife(steps=10, speed=1):\n",
    "    \"\"\"\n",
    "    Die Funktion GameOfLife erzeugt eine graphisch animierte Ausgabe der Entwicklung der Anfangsmatrix nach dem Game of Life.\n",
    "    Die Bedingungen sind durch Textdateien vorzugeben (siehe auch prepGoL).\n",
    "    kwargs:\n",
    "        steps=10 : Anzahl der durchzufürenden Schritte\n",
    "        speed=1 : Geschwindigkeit, mit der die Aimation erfolgen soll\n",
    "                    100*10**speed ist die Zeit in ms pro Schritt (empfohlen: Wert zwischen 0 (langsam) und 1 (schnell))\n",
    "    \"\"\"\n",
    "    size, bouncon, incon, rule = GoLdataimport()\n",
    "    liverule = [rule[1][i] for i in range(len(rule[1])) if rule[1][i]!=0]\n",
    "    bornrule = [rule[0][i] for i in range(len(rule[0])) if rule[0][i]!=0]\n",
    "        \n",
    "    \n",
    "    field =  np.zeros(size)\n",
    "    for i in range(int(incon.size/incon[0].size)):\n",
    "        field[incon[i][1], incon[i][0]]=1\n",
    "    \n",
    "    speed=100*10**(1-speed)\n",
    "    \n",
    "    GoLplot(field, GoLStep, liverule, bornrule, bouncon, steps, speed)\n",
    "    return"
   ]
  },
  {
   "cell_type": "code",
   "execution_count": 12,
   "metadata": {
    "collapsed": false,
    "scrolled": true
   },
   "outputs": [],
   "source": [
    "GameOfLife(steps=100, speed=0)"
   ]
  },
  {
   "cell_type": "markdown",
   "metadata": {},
   "source": [
    "Problem: Er rechnet immer vom Ende weiter, die Anfangsbedungung ist also noch zu speichern. - gelöst\n",
    "\n",
    "Ferner funktionrt die Unendlichkeitsbedingung noch nicht.\n",
    "    - Erweiterung der Matrix wird nicht angezeigt und nicht übernommen - gelöst"
   ]
  },
  {
   "cell_type": "code",
   "execution_count": 98,
   "metadata": {
    "collapsed": false,
    "scrolled": false
   },
   "outputs": [
    {
     "data": {
      "text/plain": [
       "array([[ 1.,  1.,  1.,  0.,  0.,  0.],\n",
       "       [ 1.,  1.,  1.,  0.,  0.,  0.]])"
      ]
     },
     "execution_count": 98,
     "metadata": {},
     "output_type": "execute_result"
    }
   ],
   "source": [
    "np.c_[np.ones([2,3]), np.zeros([2,3])]"
   ]
  },
  {
   "cell_type": "code",
   "execution_count": 13,
   "metadata": {
    "collapsed": false
   },
   "outputs": [
    {
     "name": "stdout",
     "output_type": "stream",
     "text": [
      "[[ 1.  1.  1.]\n",
      " [ 1.  1.  1.]\n",
      " [ 1.  1.  1.]]\n",
      "[[ 1.  1.  1. ...,  0.  0.  0.]\n",
      " [ 0.  0.  0. ...,  0.  0.  0.]\n",
      " [ 0.  0.  0. ...,  0.  0.  0.]\n",
      " ..., \n",
      " [ 0.  0.  0. ...,  0.  0.  0.]\n",
      " [ 0.  0.  0. ...,  0.  0.  0.]\n",
      " [ 0.  0.  0. ...,  0.  0.  0.]]\n",
      "[[ 1.  1.  1.]\n",
      " [ 1.  1.  1.]\n",
      " [ 1.  1.  1.]]\n",
      "[[ 1.  1.  1.]\n",
      " [ 1.  1.  1.]\n",
      " [ 1.  1.  1.]]\n"
     ]
    }
   ],
   "source": [
    "x=np.ones([3,3])\n",
    "print(x)\n",
    "y=np.array(x)\n",
    "\n",
    "y.resize([33,33])\n",
    "x.data=y\n",
    "print(y)\n",
    "print(x)\n",
    "print(np.array(x.data))"
   ]
  },
  {
   "cell_type": "code",
   "execution_count": 144,
   "metadata": {
    "collapsed": true
   },
   "outputs": [
    {
     "name": "stdout",
     "output_type": "stream",
     "text": [
      "[[ 0.  0.]\n",
      " [ 0.  2.]]\n"
     ]
    },
    {
     "data": {
      "text/plain": [
       "array([[ 0.,  0.,  0.],\n",
       "       [ 2.,  0.,  0.],\n",
       "       [ 0.,  0.,  0.]])"
      ]
     },
     "execution_count": 144,
     "metadata": {},
     "output_type": "execute_result"
    }
   ],
   "source": [
    "a=np.ones([2,2])\n",
    "a.data=np.zeros([3,3])\n",
    "a[1,1]=2\n",
    "print(a)\n",
    "a.base"
   ]
  },
  {
   "cell_type": "code",
   "execution_count": 53,
   "metadata": {
    "collapsed": false
   },
   "outputs": [
    {
     "data": {
      "text/plain": [
       "6"
      ]
     },
     "execution_count": 53,
     "metadata": {},
     "output_type": "execute_result"
    }
   ],
   "source": [
    "x=[1,2,3,4,5]\n",
    "x.append(6)\n",
    "x[5]"
   ]
  },
  {
   "cell_type": "markdown",
   "metadata": {},
   "source": [
    "Das Grundprinzip funktioniert nun. Es fehlen einige Aspekte wie\n",
    "- Randbedingungen in GoLStep\n",
    "- Funktionsbeschreibungen\n",
    "- evtl. Sonderfunktionen wie \n",
    "    - Farbwahl\n",
    "    - Starten, Stoppen per Maus\n",
    "    - Bearbeiten der Matrix per Maus\n",
    "    - ..."
   ]
  }
 ],
 "metadata": {
  "kernelspec": {
   "display_name": "Python 3",
   "language": "python",
   "name": "python3"
  },
  "language_info": {
   "codemirror_mode": {
    "name": "ipython",
    "version": 3
   },
   "file_extension": ".py",
   "mimetype": "text/x-python",
   "name": "python",
   "nbconvert_exporter": "python",
   "pygments_lexer": "ipython3",
   "version": "3.4.3"
  }
 },
 "nbformat": 4,
 "nbformat_minor": 0
}
