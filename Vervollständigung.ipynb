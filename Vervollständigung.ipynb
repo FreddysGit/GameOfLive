{
 "cells": [
  {
   "cell_type": "markdown",
   "metadata": {},
   "source": [
    "#Import der notwenigen Pakete"
   ]
  },
  {
   "cell_type": "code",
   "execution_count": 40,
   "metadata": {
    "collapsed": false
   },
   "outputs": [],
   "source": [
    "from pylab import *\n",
    "import matplotlib.animation as animation\n",
    "from matplotlib.widgets import Slider, Button, RadioButtons"
   ]
  },
  {
   "cell_type": "code",
   "execution_count": 13,
   "metadata": {
    "collapsed": false
   },
   "outputs": [],
   "source": [
    "def prepGoL (size = [9,9], bouncon = 1, incon = [[3,3],[3,4],[3,5]], rule = 'B3/S23'):\n",
    "    \"\"\"Die Funktion prepGoL bereitet Textdateien vor, in welche die Bedingungen zum Ausführen von GameOfLife benötigt werden.\n",
    "    Es sind standrtmäßige Werte eingesetzt, welche nach belieben verändert werden können. Die Veränderung können sowohl durch Veränderung der Parameter der Funktion oder durch Bearbeitung des erstellten Dokuments vorgenommen werden.  \n",
    "    kwargs:\n",
    "        size = [9,9] : Systemgröße\n",
    "        bouncon = 1 : Randbedingungen\n",
    "        incon = [[3,3],[3,4],[3,5]] : Anfangsbedingungen\n",
    "        rule = 'B3/S23' : Regelstring\n",
    "        \n",
    "    Hinweise: Es ist eine Form nach folgendem Muster für die Anweisungen zu wählen:\n",
    "        size: [Länge, Breite]\n",
    "        bouncon:\n",
    "            0 - periodisch\n",
    "            1 - begrenzt\n",
    "            2 - unendlich (dynamisch)\n",
    "        incon: [[xpos,ypos], [xpos,ypos], ...]\n",
    "        rule: B3/S23\n",
    "            B - Anzahlen von Nachbarzellen zur Geburt - /S - Anzahlen von Nachbarzellen zum Überleben vorhandener Zellen\n",
    "    kein return Wert\n",
    "    \"\"\"\n",
    "    a = open('GameOfLifeSize.dat','w')\n",
    "    a.write('#Systemgröße als zwei natürliche Zahlen; Höhe und Breite (Höhe Breite)\\n')\n",
    "    for i in range(2):\n",
    "        a.write('{} '.format(size[i]))\n",
    "    a.write(\"\\n\")\n",
    "    b = open('GameOfLifeBouncon.dat','w')\n",
    "    b.write('#Randbedingungen als Zahl:\\n')\n",
    "    b.write('#0 - periodisch\\n')\n",
    "    b.write('#1 - begrenzt\\n')\n",
    "    b.write('#2 - unendlich\\n')\n",
    "    b.write('{}\\n'.format(bouncon))\n",
    "    c = open('GameOfLifeIncon.dat','w')\n",
    "    c.write('#Anfangsbedingungen; Positionen der einzelnen besetzten Zellen untereinander: xpos ypos\\n')\n",
    "    for i in range(len(incon)):\n",
    "        for j in range(2):\n",
    "            c.write('{} '.format(incon[i][j]))\n",
    "        c.write(\"\\n\")\n",
    "    d = open('GameOfLifeRule.dat','w')\n",
    "    d.write('#Regeln für das Leben der Zellen: z.B. \"3 ENTER 2 3\"\\n')\n",
    "    d.write('#erste Zeile: Anzahlen von Nachbarzellen zur Geburt \\n#zweite Zeile: Anzahlen von Nachbarzellen zum Überleben vorhandener Zellen\\n')\n",
    "    d.write('#Anschließend sind die Zeilen so mit 0en aufzufüllen, dass sie gleich lang sind')\n",
    "    for i in range(3):\n",
    "        for j in range(max(len(rule.split(\"/\")[1])-1, len(rule.split(\"/\")[0])-1)):\n",
    "            try:\n",
    "                d.write('{} '.format(int(rule.split(\"/\")[i-1][j+1])))\n",
    "            except:\n",
    "                d.write('0')\n",
    "        d.write(\"\\n\")\n",
    "    a.close()\n",
    "    b.close()\n",
    "    c.close()\n",
    "    d.close()"
   ]
  },
  {
   "cell_type": "code",
   "execution_count": 14,
   "metadata": {
    "collapsed": false
   },
   "outputs": [],
   "source": [
    "prepGoL(size = [9,9], bouncon = 2, incon = [[3,3],[3,4],[3,5]], rule = 'B3/S23')"
   ]
  },
  {
   "cell_type": "markdown",
   "metadata": {},
   "source": [
    "##Laufzeittest, ob eine Summe oder eine Matrixoperation schneller ist."
   ]
  },
  {
   "cell_type": "code",
   "execution_count": 5,
   "metadata": {
    "collapsed": false
   },
   "outputs": [
    {
     "name": "stdout",
     "output_type": "stream",
     "text": [
      "10110\n",
      "Wall time: 10.5 ms\n",
      "[1 1 1 ..., 1 1 1]\n",
      "10110.0\n",
      "Wall time: 1 ms\n"
     ]
    }
   ],
   "source": [
    "import numpy as np\n",
    "k=10110\n",
    "M=np.ones([k,k]).astype(int)\n",
    "%time print(sum(M[:,0]))\n",
    "print(M[:,0])\n",
    "%time print(M[:,0].dot(np.ones(k)))"
   ]
  },
  {
   "cell_type": "markdown",
   "metadata": {},
   "source": [
    "##Es wird also weiter mit Matrixoperationen gearbeitet"
   ]
  },
  {
   "cell_type": "code",
   "execution_count": 15,
   "metadata": {
    "collapsed": false
   },
   "outputs": [],
   "source": [
    "def GoLStep(M, livecrit, borncrit, bouncon):\n",
    "    \"\"\"\n",
    "    Die Funktion GoLStep führt einen einzelnen Schritt des Programms GameOfLife durch.\n",
    "    args:\n",
    "        M : Matrix, welche die Daten des Feldes entählt (0 für tote und 1 für lebende Zellen)\n",
    "        livecrit : Liste mit Kriterien, wann eine lebende Zelle am Leben bleibt. (Liste mit int Zahlen)\n",
    "        borncrit : Liste mit Kriterien, wann eine neue Zelle geboren wird. (Liste mit int Zahlen)\n",
    "        bouncon : Randbedingungen (int Zahl)\n",
    "                    0 - periodisch\n",
    "                    1 - begrenzt\n",
    "                    2 - unendlich (dynamisch) \n",
    "    \n",
    "    returns newM (neu, nach den vorgegebenen Regeln berechnete Matrix / neues Feld)\n",
    "    \"\"\"\n",
    "    hohe, breite=M.shape\n",
    "    if bouncon==2:\n",
    "        l = M[:,0].dot(np.ones(hohe)) #links\n",
    "        r = M[:,-1].dot(np.ones(hohe)) #rechts\n",
    "        o = M[0].dot(np.ones(breite)) #oben\n",
    "        u = M[-1].dot(np.ones(breite)) #unten\n",
    "        if not l==0:\n",
    "            M = np.c_[np.zeros(hohe), M]\n",
    "            breite=breite+1\n",
    "        if not r==0:\n",
    "            M = np.c_[M, np.zeros(hohe)]\n",
    "            breite=breite+1\n",
    "        if not o==0:\n",
    "            M = np.r_[np.zeros([1,breite]),M]\n",
    "            hohe=hohe+1\n",
    "        if not u==0:\n",
    "            M = np.r_[M,np.zeros([1,breite])]\n",
    "            hohe=hohe+1\n",
    "\n",
    "        neighbor1 = np.eye(hohe)+np.eye(hohe, k=1)+np.eye(hohe, k=-1)\n",
    "        neighbor2 = np.eye(breite)+np.eye(breite, k=1)+np.eye(breite, k=-1)\n",
    "    elif bouncon==1:\n",
    "        neighbor1 = np.eye(hohe)+np.eye(hohe, k=1)+np.eye(hohe, k=-1)\n",
    "        neighbor2 = np.eye(breite)+np.eye(breite, k=1)+np.eye(breite, k=-1)\n",
    "    elif bouncon==0:\n",
    "        neighbor1 = np.eye(hohe)+np.eye(hohe, k=1)+np.eye(hohe, k=-1)\n",
    "        neighbor1[0,-1]=1\n",
    "        neighbor1[-1,0]=1\n",
    "        neighbor2 = np.eye(breite)+np.eye(breite, k=1)+np.eye(breite, k=-1)\n",
    "        neighbor2[0,-1]=1\n",
    "        neighbor2[-1,0]=1\n",
    "    neighbors = neighbor1.dot(M).dot(neighbor2)-M\n",
    "    livenei = M*neighbors #Matrix, welche die Nachbarzahlen der lebenden Zellen enthält\n",
    "    deadnei = neighbors*(1-M) #Matrix, welche die Nachbarzahlen der toten Zellen enthält\n",
    "    newM = np.zeros((hohe,breite))\n",
    "    for i in livecrit:\n",
    "        newM[livenei==i]=1\n",
    "    for i in borncrit:\n",
    "        newM[deadnei==i]=1\n",
    "    #print(M)\n",
    "    #print(breite, hohe)\n",
    "    #print(newM)\n",
    "    return newM, breite, hohe"
   ]
  },
  {
   "cell_type": "code",
   "execution_count": 175,
   "metadata": {
    "collapsed": false
   },
   "outputs": [],
   "source": [
    "def GoLplot(field, step, livecrit, borncrit, bouncon, interval, speed):\n",
    "    \"\"\"\n",
    "    Die Funktion GoLplot stellt die Entwicklung des Feldes nach vorgegebener Regel dar.\n",
    "    args:\n",
    "        field : Ausganagsmatrix (Feld zum Schritt 0) mit den Daten der lebenden Zellen (1) und der toten Zellen (0)\n",
    "        step : Funktion, welche die Matrix zum nächsten Zeitpunkt bestimmt (mit den args *[field, livecrit, borncrit, bouncon])\n",
    "        livecrit : Liste mit Kriterien, wann eine lebende Zelle am Leben bleibt. (Liste mit int Zahlen)\n",
    "        borncrit : Liste mit Kriterien, wann eine neue Zelle geboren wird. (Liste mit int Zahlen)\n",
    "        bouncon : Randbedingungen (int Zahl)\n",
    "                    0 - periodisch\n",
    "                    1 - begrenzt\n",
    "                    2 - unendlich (dynamisch)  \n",
    "        interval : Anzahl der durchzuführenden Schritte (int Zahl)\n",
    "        speed : Schnelligkeit, mit der die Animation gezeigt werden soll\n",
    "                    float Zahl, welche die Verweildauer in ms angibt \n",
    "    \n",
    "    kein return Wert\n",
    "    \"\"\"\n",
    "    fig, ax = subplots()\n",
    "    ax.set_position([0.3,0.25,0.69,0.69])\n",
    "    line = ax.imshow(field, interpolation='nearest')\n",
    "    sfield, field2 = np.array(field), np.array(field)\n",
    "    fields=[np.array(field2)]\n",
    "    ihohe, ibreite=sfield.shape\n",
    "    hohen=[ihohe]\n",
    "    breiten=[ibreite]\n",
    "    def animate(i):\n",
    "        if len(fields)>=i+1:\n",
    "            newfield=fields[i]\n",
    "            hohe=hohen[i]\n",
    "            breite=breiten[i]\n",
    "        else:            \n",
    "            field=fields[i-1]         \n",
    "            newfield, breite, hohe = step(field, livecrit, borncrit, bouncon)\n",
    "            fields.append(np.array(newfield))\n",
    "            hohen.append(int(hohe))\n",
    "            breiten.append(int(breite))\n",
    "        #print()\n",
    "        #print(i)\n",
    "        #print(len(fields))\n",
    "        ax.set_xlim([-0.5, breite-0.5])\n",
    "        ax.set_ylim([-0.5, hohe-0.5])\n",
    "        ax.clear()\n",
    "        line = ax.imshow(newfield, interpolation='nearest')\n",
    "        ax.set_title(\"$step$ = {}\".format(i))\n",
    "        return line\n",
    "\n",
    "    #Optionsfunktionen\n",
    "    def Option(option):\n",
    "        slider1.set_visible(0)\n",
    "        slider2.set_visible(0)\n",
    "        slider3.set_visible(0)\n",
    "        box.set_visible(0)\n",
    "        if option==\"general Options\":\n",
    "            pass #Randbedingungen, Regelstring, Size, wenn Randbedingungen Endlich...\n",
    "        if option==\"Colors\":\n",
    "            slider1.set_visible(1)\n",
    "            slider2.set_visible(1)\n",
    "            slider3.set_visible(1)\n",
    "            box.set_visible(1)\n",
    "            r.on_changed(colorslide)\n",
    "            g.on_changed(colorslide)\n",
    "            b.on_changed(colorslide)\n",
    "        if option==\"Running\":\n",
    "            pass\n",
    "        if option==\"Speed\":\n",
    "            pass\n",
    "        if option==\"Edit field\":\n",
    "            pass\n",
    "        if option==\"Reset All\":\n",
    "            pass\n",
    "    \n",
    "    #Farben\n",
    "    red=0\n",
    "    green=0\n",
    "    blue=0\n",
    "    def colorslide(val):\n",
    "        red=r.val\n",
    "        green=g.val\n",
    "        blue=b.val\n",
    "        col = {'red': [(0.0,  0.0, 0.0),\n",
    "                       (1.0,  red, red)],\n",
    "\n",
    "             'green': [(0.0,  0.0, 0.0),\n",
    "                       (1.0,  green, green)],\n",
    "\n",
    "             'blue':  [(0.0,  0.0, 0.0),\n",
    "                       (1.0,  blue, blue)],\n",
    "\n",
    "             'alpha': [(0.0,  0.0, 0.0),\n",
    "                       (1.0,  1.0, 1.0)] }\n",
    "        cm = mpl.colors.LinearSegmentedColormap(\"cm\", col)\n",
    "        register_cmap(cmap=cm)\n",
    "        set_cmap(cm)\n",
    "        \n",
    "        \n",
    "    def colorbut(col):\n",
    "        if col==\"red\":\n",
    "            r.val=1\n",
    "            g.val=0\n",
    "            b.val=0\n",
    "        if col==\"green\":\n",
    "            g.val=1\n",
    "            r.val=0\n",
    "            b.val=0\n",
    "        if col==\"blue\":\n",
    "            b.val=1\n",
    "            r.val=0\n",
    "            g.val=0\n",
    "        if col==\"black\":\n",
    "            r.val=0\n",
    "            g.val=0\n",
    "            b.val=0\n",
    "        if col==\"yellow\":\n",
    "            r.val=1\n",
    "            g.val=1\n",
    "            b.val=0\n",
    "        if col==\"Personal\":\n",
    "            pass\n",
    "        colorslide(0)\n",
    "    \n",
    "    #Optionen anzeigen\n",
    "    opt = axes([0.025, 0.65, 0.25, 0.25])\n",
    "    Options = RadioButtons(opt, ('General Options', 'Manual Running', 'Edit field', 'Colors'), active=0)\n",
    "    Options.on_clicked(Option)\n",
    "    resetsa = plt.axes([0.025, 0.6, 0.25, 0.04])\n",
    "    resetsb = Button(resetsa, 'Reset All')\n",
    "    \n",
    "    #Optionselemente\n",
    "    slider1 = axes([0.35, 0.1, 0.6, 0.03])\n",
    "    slider1.tick_params(labelleft='off',labelbottom='off', bottom='off', top='off', left='off', right='off')\n",
    "    slider2 = axes([0.35, 0.15, 0.6, 0.03])\n",
    "    slider2.tick_params(labelleft='off',labelbottom='off', bottom='off', top='off', left='off', right='off')\n",
    "    slider3 = axes([0.35, 0.05, 0.6, 0.03])\n",
    "    slider3.tick_params(labelleft='off',labelbottom='off', bottom='off', top='off', left='off', right='off')\n",
    "    box = axes([0.025,0.2,0.25,0.38])\n",
    "    reseta = axes([0.025,0.025,0.2,0.1])\n",
    "    resetb = Button(reseta, 'Reset')\n",
    "    \n",
    "    #Colors\n",
    "    r = Slider(slider1, 'red', 0.0, 1.0, valinit=red)\n",
    "    g = Slider(slider2, 'green', 0.0, 1.0, valinit=green)\n",
    "    b = Slider(slider3, 'blue', 0.0, 1.0, valinit=blue)\n",
    "    \n",
    "    #Anfangsbedingung schaffen\n",
    "    Option(\"General Options\")\n",
    "    colorbut(\"black\")\n",
    "    ani = animation.FuncAnimation(fig, animate, np.arange(0, interval+1),\n",
    "                                  interval=speed, repeat=True, repeat_delay=speed*5)\n",
    "    show()"
   ]
  },
  {
   "cell_type": "code",
   "execution_count": 177,
   "metadata": {
    "collapsed": false
   },
   "outputs": [],
   "source": [
    "GameOfLife(steps=100, speed=0)"
   ]
  },
  {
   "cell_type": "markdown",
   "metadata": {},
   "source": [
    "##Funktion zum Import der Benutzereingabe"
   ]
  },
  {
   "cell_type": "code",
   "execution_count": 17,
   "metadata": {
    "collapsed": false
   },
   "outputs": [],
   "source": [
    "def GoLdataimport():\n",
    "    \"\"\"\n",
    "    Die Funktion GoLdataimport importiert die Bedingungen aus den mit prepGoL erstellten Textdateien. Die Form ist wie bei prepGoL beschrieben zu halten.\n",
    "    Sie benötigt keine Argumente.\n",
    "    returns (np.arrays)\n",
    "        size : Größe des Feldes\n",
    "        bouncon : Randbedingung\n",
    "        incon : Anfangsbedingung\n",
    "        rule : Regel (erste Zeile: bornrule, zweite Zeile: liverule)\n",
    "    \"\"\"\n",
    "    size = np.loadtxt(\"GameOfLifeSize.dat\", dtype=int)\n",
    "    bouncon = np.loadtxt(\"GameOfLifeBouncon.dat\", dtype=int)\n",
    "    incon = np.loadtxt(\"GameOfLifeIncon.dat\", dtype=int)\n",
    "    rule = np.loadtxt(\"GameOfLifeRule.dat\", dtype=int)\n",
    "    return size, bouncon, incon, rule"
   ]
  },
  {
   "cell_type": "code",
   "execution_count": 7,
   "metadata": {
    "collapsed": false
   },
   "outputs": [],
   "source": [
    "size, bouncon, incon, rule=GoLdataimport()"
   ]
  },
  {
   "cell_type": "markdown",
   "metadata": {
    "collapsed": true
   },
   "source": [
    "##Funktion, welche den Datenimport und den Plot vornimmt"
   ]
  },
  {
   "cell_type": "code",
   "execution_count": 18,
   "metadata": {
    "collapsed": false
   },
   "outputs": [],
   "source": [
    "def GameOfLife(steps=10, speed=1):\n",
    "    \"\"\"\n",
    "    Die Funktion GameOfLife erzeugt eine graphisch animierte Ausgabe der Entwicklung der Anfangsmatrix nach dem Game of Life.\n",
    "    Die Bedingungen sind durch Textdateien vorzugeben (siehe auch prepGoL).\n",
    "    kwargs:\n",
    "        steps=10 : Anzahl der durchzufürenden Schritte\n",
    "        speed=1 : Geschwindigkeit, mit der die Aimation erfolgen soll\n",
    "                    100*10**speed ist die Zeit in ms pro Schritt (empfohlen: Wert zwischen 0 (langsam) und 1 (schnell))\n",
    "    \"\"\"\n",
    "    size, bouncon, incon, rule = GoLdataimport()\n",
    "    liverule = [rule[1][i] for i in range(len(rule[1])) if rule[1][i]!=0]\n",
    "    bornrule = [rule[0][i] for i in range(len(rule[0])) if rule[0][i]!=0]\n",
    "        \n",
    "    \n",
    "    field =  np.zeros(size)\n",
    "    for i in range(int(incon.size/incon[0].size)):\n",
    "        field[incon[i][1], incon[i][0]]=1\n",
    "    \n",
    "    speed=100*10**(1-speed)\n",
    "    \n",
    "    GoLplot(field, GoLStep, liverule, bornrule, bouncon, steps, speed)\n",
    "    return"
   ]
  },
  {
   "cell_type": "code",
   "execution_count": 12,
   "metadata": {
    "collapsed": false,
    "scrolled": true
   },
   "outputs": [],
   "source": [
    "GameOfLife(steps=100, speed=0)"
   ]
  },
  {
   "cell_type": "markdown",
   "metadata": {},
   "source": [
    "Problem: Er rechnet immer vom Ende weiter, die Anfangsbedungung ist also noch zu speichern. - gelöst\n",
    "\n",
    "Ferner funktionrt die Unendlichkeitsbedingung noch nicht.\n",
    "    - Erweiterung der Matrix wird nicht angezeigt und nicht übernommen - gelöst"
   ]
  },
  {
   "cell_type": "code",
   "execution_count": 98,
   "metadata": {
    "collapsed": false,
    "scrolled": false
   },
   "outputs": [
    {
     "data": {
      "text/plain": [
       "array([[ 1.,  1.,  1.,  0.,  0.,  0.],\n",
       "       [ 1.,  1.,  1.,  0.,  0.,  0.]])"
      ]
     },
     "execution_count": 98,
     "metadata": {},
     "output_type": "execute_result"
    }
   ],
   "source": [
    "np.c_[np.ones([2,3]), np.zeros([2,3])]"
   ]
  },
  {
   "cell_type": "code",
   "execution_count": 13,
   "metadata": {
    "collapsed": false
   },
   "outputs": [
    {
     "name": "stdout",
     "output_type": "stream",
     "text": [
      "[[ 1.  1.  1.]\n",
      " [ 1.  1.  1.]\n",
      " [ 1.  1.  1.]]\n",
      "[[ 1.  1.  1. ...,  0.  0.  0.]\n",
      " [ 0.  0.  0. ...,  0.  0.  0.]\n",
      " [ 0.  0.  0. ...,  0.  0.  0.]\n",
      " ..., \n",
      " [ 0.  0.  0. ...,  0.  0.  0.]\n",
      " [ 0.  0.  0. ...,  0.  0.  0.]\n",
      " [ 0.  0.  0. ...,  0.  0.  0.]]\n",
      "[[ 1.  1.  1.]\n",
      " [ 1.  1.  1.]\n",
      " [ 1.  1.  1.]]\n",
      "[[ 1.  1.  1.]\n",
      " [ 1.  1.  1.]\n",
      " [ 1.  1.  1.]]\n"
     ]
    }
   ],
   "source": [
    "x=np.ones([3,3])\n",
    "print(x)\n",
    "y=np.array(x)\n",
    "\n",
    "y.resize([33,33])\n",
    "x.data=y\n",
    "print(y)\n",
    "print(x)\n",
    "print(np.array(x.data))"
   ]
  },
  {
   "cell_type": "code",
   "execution_count": 144,
   "metadata": {
    "collapsed": true
   },
   "outputs": [
    {
     "name": "stdout",
     "output_type": "stream",
     "text": [
      "[[ 0.  0.]\n",
      " [ 0.  2.]]\n"
     ]
    },
    {
     "data": {
      "text/plain": [
       "array([[ 0.,  0.,  0.],\n",
       "       [ 2.,  0.,  0.],\n",
       "       [ 0.,  0.,  0.]])"
      ]
     },
     "execution_count": 144,
     "metadata": {},
     "output_type": "execute_result"
    }
   ],
   "source": [
    "a=np.ones([2,2])\n",
    "a.data=np.zeros([3,3])\n",
    "a[1,1]=2\n",
    "print(a)\n",
    "a.base"
   ]
  },
  {
   "cell_type": "code",
   "execution_count": 53,
   "metadata": {
    "collapsed": false
   },
   "outputs": [
    {
     "data": {
      "text/plain": [
       "6"
      ]
     },
     "execution_count": 53,
     "metadata": {},
     "output_type": "execute_result"
    }
   ],
   "source": [
    "x=[1,2,3,4,5]\n",
    "x.append(6)\n",
    "x[5]"
   ]
  },
  {
   "cell_type": "markdown",
   "metadata": {},
   "source": [
    "Das Grundprinzip funktioniert nun. Es fehlen einige Aspekte wie\n",
    "- Randbedingungen in GoLStep\n",
    "- Funktionsbeschreibungen\n",
    "- evtl. Sonderfunktionen wie \n",
    "    - Farbwahl\n",
    "    - Starten, Stoppen per Maus\n",
    "    - Bearbeiten der Matrix per Maus\n",
    "    - ..."
   ]
  }
 ],
 "metadata": {
  "kernelspec": {
   "display_name": "Python 3",
   "language": "python",
   "name": "python3"
  },
  "language_info": {
   "codemirror_mode": {
    "name": "ipython",
    "version": 3
   },
   "file_extension": ".py",
   "mimetype": "text/x-python",
   "name": "python",
   "nbconvert_exporter": "python",
   "pygments_lexer": "ipython3",
   "version": "3.4.3"
  }
 },
 "nbformat": 4,
 "nbformat_minor": 0
}
